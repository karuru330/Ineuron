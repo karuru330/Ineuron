{
 "cells": [
  {
   "cell_type": "markdown",
   "metadata": {},
   "source": [
    "#### 1.\tWrite a Python Program to Find LCM?"
   ]
  },
  {
   "cell_type": "code",
   "execution_count": 1,
   "metadata": {},
   "outputs": [
    {
     "name": "stdout",
     "output_type": "stream",
     "text": [
      "Enter number1: 4\n",
      "Enter number2: 12\n",
      "LCM of 4 and 12 = 12\n"
     ]
    }
   ],
   "source": [
    "def gcd(a,b):\n",
    "    if b == 0:\n",
    "        return a\n",
    "    return gcd(b, a%b)\n",
    "    \n",
    "a = int(input(\"Enter number1: \"))\n",
    "b = int(input(\"Enter number2: \"))\n",
    "lcm = (a*b)//gcd(a,b)\n",
    "print(\"LCM of {} and {} = {}\".format(a,b,lcm))"
   ]
  },
  {
   "cell_type": "markdown",
   "metadata": {},
   "source": [
    "#### 2.\tWrite a Python Program to Find HCF?"
   ]
  },
  {
   "cell_type": "code",
   "execution_count": 4,
   "metadata": {},
   "outputs": [
    {
     "name": "stdout",
     "output_type": "stream",
     "text": [
      "Enter number1: 12\n",
      "Enter number2: 9\n",
      "HCF of 12 and 9 = 3\n"
     ]
    }
   ],
   "source": [
    "def gcd(a,b):\n",
    "    if b == 0:\n",
    "        return a\n",
    "    return gcd(b, a%b)\n",
    "    \n",
    "a = int(input(\"Enter number1: \"))\n",
    "b = int(input(\"Enter number2: \"))\n",
    "hcf = gcd(a,b)\n",
    "print(\"HCF of {} and {} = {}\".format(a,b,hcf))"
   ]
  },
  {
   "cell_type": "markdown",
   "metadata": {},
   "source": [
    "#### 3.\tWrite a Python Program to Convert Decimal to Binary, Octal and Hexadecimal?"
   ]
  },
  {
   "cell_type": "code",
   "execution_count": 5,
   "metadata": {},
   "outputs": [
    {
     "name": "stdout",
     "output_type": "stream",
     "text": [
      "Enter a number: 5\n",
      "Decimal representation of number 5 is 5\n",
      "Binary representation of number 5 is 0b101\n",
      "Octal representation of number 5 is 0o5\n",
      "Hexadecimal representation of number 5 is 0x5\n"
     ]
    }
   ],
   "source": [
    "n = int(input(\"Enter a number: \"))\n",
    "print(\"Decimal representation of number {} is {}\".format(n,n))\n",
    "print(\"Binary representation of number {} is {}\".format(n,bin(n)))\n",
    "print(\"Octal representation of number {} is {}\".format(n,oct(n)))\n",
    "print(\"Hexadecimal representation of number {} is {}\".format(n,hex(n)))"
   ]
  },
  {
   "cell_type": "markdown",
   "metadata": {},
   "source": [
    "#### 4.\tWrite a Python Program To Find ASCII value of a character?"
   ]
  },
  {
   "cell_type": "code",
   "execution_count": 6,
   "metadata": {},
   "outputs": [
    {
     "name": "stdout",
     "output_type": "stream",
     "text": [
      "Enter a character: P\n",
      "ASCII value of character P is 80\n"
     ]
    }
   ],
   "source": [
    "char = input(\"Enter a character: \")[0]\n",
    "print(\"ASCII value of character {} is {}\".format(char, ord(char)))"
   ]
  },
  {
   "cell_type": "markdown",
   "metadata": {},
   "source": [
    "#### 5.\tWrite a Python Program to Make a Simple Calculator with 4 basic mathematical operations?"
   ]
  },
  {
   "cell_type": "code",
   "execution_count": 5,
   "metadata": {},
   "outputs": [
    {
     "name": "stdout",
     "output_type": "stream",
     "text": [
      "1. Addition\n",
      "2. Substraction\n",
      "3. Multiplication\n",
      "4. Division\n",
      "5. Enter any other option to quit\n",
      "\n",
      "Enter your choice: 1\n",
      "Enter number1: 4\n",
      "Enter number2: 5\n",
      "\n",
      "Addition of 4 and 5 = 9\n",
      "\n",
      "1. Addition\n",
      "2. Substraction\n",
      "3. Multiplication\n",
      "4. Division\n",
      "5. Enter any other option to quit\n",
      "\n",
      "Enter your choice: 2\n",
      "Enter number1: 7\n",
      "Enter number2: 4\n",
      "\n",
      "Substraction of 7 and 4 = 3\n",
      "\n",
      "1. Addition\n",
      "2. Substraction\n",
      "3. Multiplication\n",
      "4. Division\n",
      "5. Enter any other option to quit\n",
      "\n",
      "Enter your choice: 3\n",
      "Enter number1: 6\n",
      "Enter number2: 4\n",
      "\n",
      "Multiplication of 6 and 4 = 24\n",
      "\n",
      "1. Addition\n",
      "2. Substraction\n",
      "3. Multiplication\n",
      "4. Division\n",
      "5. Enter any other option to quit\n",
      "\n",
      "Enter your choice: 4\n",
      "Enter number1: 35\n",
      "Enter number2: 7\n",
      "\n",
      "Division of 35 and 7 = 5\n",
      "\n",
      "1. Addition\n",
      "2. Substraction\n",
      "3. Multiplication\n",
      "4. Division\n",
      "5. Enter any other option to quit\n",
      "\n",
      "Enter your choice: -1\n"
     ]
    }
   ],
   "source": [
    "# simple calculator\n",
    "\n",
    "def add(a,b):\n",
    "    return a+b\n",
    "def sub(a,b):\n",
    "    return a-b\n",
    "def mul(a,b):\n",
    "    return a*b\n",
    "def div(a,b):\n",
    "    return a//b\n",
    "\n",
    "while True:\n",
    "    print(\"1. Addition\\n2. Substraction\\n3. Multiplication\\n4. Division\\n5. Enter any other option to quit\")\n",
    "    choice = int(input(\"\\nEnter your choice: \"))\n",
    "    if choice < 1 or choice > 4:\n",
    "        break\n",
    "    else:\n",
    "        a = int(input(\"Enter number1: \"))\n",
    "        b = int(input(\"Enter number2: \"))\n",
    "        print(\"\")\n",
    "        if choice == 1:\n",
    "            print(\"Addition of {} and {} = {}\".format(a,b,add(a,b)))\n",
    "        elif choice == 2:\n",
    "            print(\"Substraction of {} and {} = {}\".format(a,b,sub(a,b)))\n",
    "        elif choice == 3:\n",
    "            print(\"Multiplication of {} and {} = {}\".format(a,b,mul(a,b)))\n",
    "        elif choice == 4:\n",
    "            print(\"Division of {} and {} = {}\".format(a,b,div(a,b)))\n",
    "    print(\"\")"
   ]
  }
 ],
 "metadata": {
  "kernelspec": {
   "display_name": "Python 3",
   "language": "python",
   "name": "python3"
  },
  "language_info": {
   "codemirror_mode": {
    "name": "ipython",
    "version": 3
   },
   "file_extension": ".py",
   "mimetype": "text/x-python",
   "name": "python",
   "nbconvert_exporter": "python",
   "pygments_lexer": "ipython3",
   "version": "3.9.1"
  }
 },
 "nbformat": 4,
 "nbformat_minor": 4
}
