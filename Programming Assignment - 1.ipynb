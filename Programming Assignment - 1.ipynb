{
 "cells": [
  {
   "cell_type": "markdown",
   "metadata": {},
   "source": [
    "#### 1.\tWrite a Python program to print \"Hello Python\"?"
   ]
  },
  {
   "cell_type": "code",
   "execution_count": 1,
   "metadata": {},
   "outputs": [
    {
     "name": "stdout",
     "output_type": "stream",
     "text": [
      "Hello Python\n"
     ]
    }
   ],
   "source": [
    "print(\"Hello Python\")"
   ]
  },
  {
   "cell_type": "markdown",
   "metadata": {},
   "source": [
    "#### 2.\tWrite a Python program to do arithmetical operations addition and division.?"
   ]
  },
  {
   "cell_type": "code",
   "execution_count": 2,
   "metadata": {},
   "outputs": [
    {
     "name": "stdout",
     "output_type": "stream",
     "text": [
      "Enter number1: 30\n",
      "Enter number2: 5\n",
      "Addition of 30 and 5 is 35\n",
      "Division of 30 and 5 is 6.0\n"
     ]
    }
   ],
   "source": [
    "a = int(input(\"Enter number1: \"))\n",
    "b = int(input(\"Enter number2: \"))\n",
    "print(f\"Addition of {a} and {b} is {a+b}\")\n",
    "print(f\"Division of {a} and {b} is {a/b}\")"
   ]
  },
  {
   "cell_type": "markdown",
   "metadata": {},
   "source": [
    "#### 3.\tWrite a Python program to find the area of a triangle?"
   ]
  },
  {
   "cell_type": "code",
   "execution_count": 3,
   "metadata": {},
   "outputs": [
    {
     "name": "stdout",
     "output_type": "stream",
     "text": [
      "Enter value of breadth: 5\n",
      "Enter value of height: 6\n",
      "Area of triangle with breadth = 5 and height = 6 is 15.0\n"
     ]
    }
   ],
   "source": [
    "b = int(input(\"Enter value of breadth: \"))\n",
    "h = int(input(\"Enter value of height: \"))\n",
    "print(f\"Area of triangle with breadth = {b} and height = {h} is {(1/2)*b*h}\")"
   ]
  },
  {
   "cell_type": "markdown",
   "metadata": {},
   "source": [
    "#### 4.\tWrite a Python program to swap two variables?"
   ]
  },
  {
   "cell_type": "code",
   "execution_count": 4,
   "metadata": {},
   "outputs": [
    {
     "name": "stdout",
     "output_type": "stream",
     "text": [
      "Enter number1: 5\n",
      "Enter number2: 6\n",
      "Before swap, the values of variables num1 and num2 are 5, 6\n",
      "After swap, the values of variables num1 and num2 are 6, 5\n"
     ]
    }
   ],
   "source": [
    "num1 = int(input(\"Enter number1: \"))\n",
    "num2 = int(input(\"Enter number2: \"))\n",
    "print(f\"Before swap, the values of variables num1 and num2 are {num1}, {num2}\")\n",
    "num1,num2 = num2, num1\n",
    "print(f\"After swap, the values of variables num1 and num2 are {num1}, {num2}\")"
   ]
  },
  {
   "cell_type": "markdown",
   "metadata": {},
   "source": [
    "#### 5.\tWrite a Python program to generate a random number?"
   ]
  },
  {
   "cell_type": "code",
   "execution_count": 5,
   "metadata": {},
   "outputs": [
    {
     "name": "stdout",
     "output_type": "stream",
     "text": [
      "738\n"
     ]
    }
   ],
   "source": [
    "import random\n",
    "print(random.randint(1,1000))"
   ]
  }
 ],
 "metadata": {
  "kernelspec": {
   "display_name": "Python 3",
   "language": "python",
   "name": "python3"
  },
  "language_info": {
   "codemirror_mode": {
    "name": "ipython",
    "version": 3
   },
   "file_extension": ".py",
   "mimetype": "text/x-python",
   "name": "python",
   "nbconvert_exporter": "python",
   "pygments_lexer": "ipython3",
   "version": "3.9.1"
  }
 },
 "nbformat": 4,
 "nbformat_minor": 4
}
