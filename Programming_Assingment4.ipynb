{
 "cells": [
  {
   "cell_type": "markdown",
   "metadata": {},
   "source": [
    "#### 1.\tWrite a Python Program to Find the Factorial of a Number?"
   ]
  },
  {
   "cell_type": "code",
   "execution_count": 2,
   "metadata": {},
   "outputs": [
    {
     "name": "stdout",
     "output_type": "stream",
     "text": [
      "Enter a number: 5\n",
      "Factorial of 5 = 120\n"
     ]
    }
   ],
   "source": [
    "n = int(input(\"Enter a number: \"))\n",
    "res = 1\n",
    "for i in range(1,n+1):\n",
    "    res *= i\n",
    "print(\"Factorial of {} = {}\".format(n,res))"
   ]
  },
  {
   "cell_type": "markdown",
   "metadata": {},
   "source": [
    "#### 2.\tWrite a Python Program to Display the multiplication Table?"
   ]
  },
  {
   "cell_type": "code",
   "execution_count": 6,
   "metadata": {},
   "outputs": [
    {
     "name": "stdout",
     "output_type": "stream",
     "text": [
      "Enter a number to display multiplication table: 5\n",
      "Multiplication table of 5\n",
      "5 x 1 = 5\n",
      "5 x 2 = 10\n",
      "5 x 3 = 15\n",
      "5 x 4 = 20\n",
      "5 x 5 = 25\n",
      "5 x 6 = 30\n",
      "5 x 7 = 35\n",
      "5 x 8 = 40\n",
      "5 x 9 = 45\n",
      "5 x 10 = 50\n"
     ]
    }
   ],
   "source": [
    "n = int(input(\"Enter a number to display multiplication table: \"))\n",
    "print(\"Multiplication table of {}\".format(n))\n",
    "for i in range(1, 11):\n",
    "    print(\"{} x {} = {}\".format(n, i, n*i))"
   ]
  },
  {
   "cell_type": "markdown",
   "metadata": {},
   "source": [
    "#### 3.\tWrite a Python Program to Print the Fibonacci sequence?"
   ]
  },
  {
   "cell_type": "code",
   "execution_count": 7,
   "metadata": {},
   "outputs": [
    {
     "name": "stdout",
     "output_type": "stream",
     "text": [
      "Enter number of terms: 5\n",
      "Fibonacci sequence:\n",
      "0 1 1 2 3 "
     ]
    }
   ],
   "source": [
    "n = int(input(\"Enter number of terms: \"))\n",
    "a = 0\n",
    "b = 1\n",
    "print(\"Fibonacci sequence:\")\n",
    "if n == 1:\n",
    "    print(a)\n",
    "elif n == 2:\n",
    "    print(a,b)\n",
    "else:\n",
    "    print(a,b,end=\" \")\n",
    "    for i in range(n-2):\n",
    "        t = a+b\n",
    "        print(t, end=\" \")\n",
    "        a = b\n",
    "        b = t\n",
    "        "
   ]
  },
  {
   "cell_type": "markdown",
   "metadata": {},
   "source": [
    "#### 4.\tWrite a Python Program to Check Armstrong Number?"
   ]
  },
  {
   "cell_type": "code",
   "execution_count": 8,
   "metadata": {},
   "outputs": [
    {
     "name": "stdout",
     "output_type": "stream",
     "text": [
      "Enter a number: 153\n",
      "153 is an Armstrong number\n"
     ]
    }
   ],
   "source": [
    "n = int(input(\"Enter a number: \"))\n",
    "n_copy = n\n",
    "res = 0\n",
    "while n > 0:\n",
    "    res = res + (n%10)**3\n",
    "    n = n//10\n",
    "if n_copy == res:\n",
    "    print(\"{} is an Armstrong number\".format(n_copy))\n",
    "else:\n",
    "    print(\"{} is not an Armstrong number\".format(n_copy))"
   ]
  },
  {
   "cell_type": "markdown",
   "metadata": {},
   "source": [
    "#### 5.\tWrite a Python Program to Find Armstrong Number in an Interval?"
   ]
  },
  {
   "cell_type": "code",
   "execution_count": 9,
   "metadata": {},
   "outputs": [
    {
     "name": "stdout",
     "output_type": "stream",
     "text": [
      "Enter start value of a range: 1\n",
      "Enter end value of a range: 1000\n",
      "Armstrong numbers in the range 1 - 1000 are\n",
      "1 153 370 371 407 "
     ]
    }
   ],
   "source": [
    "start = int(input(\"Enter start value of a range: \"))\n",
    "end = int(input(\"Enter end value of a range: \"))\n",
    "print(\"Armstrong numbers in the range {} - {} are\".format(start,end))\n",
    "while start <= end:\n",
    "    res = 0\n",
    "    n = start\n",
    "    while n > 0:\n",
    "        res = res + (n%10)**3\n",
    "        n = n//10\n",
    "    if start == res:\n",
    "        print(start, end=\" \")\n",
    "    start += 1"
   ]
  },
  {
   "cell_type": "markdown",
   "metadata": {},
   "source": [
    "#### 6.\tWrite a Python Program to Find the Sum of Natural Numbers?"
   ]
  },
  {
   "cell_type": "code",
   "execution_count": 10,
   "metadata": {},
   "outputs": [
    {
     "name": "stdout",
     "output_type": "stream",
     "text": [
      "Enter N value: 5\n",
      "Sum of 5 natural numbers = 15\n"
     ]
    }
   ],
   "source": [
    "n = int(input(\"Enter N value: \"))\n",
    "res = 0\n",
    "for i in range(1, n+1):\n",
    "    res += i\n",
    "print(\"Sum of {} natural numbers = {}\".format(n, res))"
   ]
  }
 ],
 "metadata": {
  "kernelspec": {
   "display_name": "Python 3",
   "language": "python",
   "name": "python3"
  },
  "language_info": {
   "codemirror_mode": {
    "name": "ipython",
    "version": 3
   },
   "file_extension": ".py",
   "mimetype": "text/x-python",
   "name": "python",
   "nbconvert_exporter": "python",
   "pygments_lexer": "ipython3",
   "version": "3.9.1"
  }
 },
 "nbformat": 4,
 "nbformat_minor": 4
}
