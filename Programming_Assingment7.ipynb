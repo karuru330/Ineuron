{
 "cells": [
  {
   "cell_type": "markdown",
   "metadata": {},
   "source": [
    "#### 1.\tWrite a Python Program to find sum of array?"
   ]
  },
  {
   "cell_type": "code",
   "execution_count": 1,
   "metadata": {},
   "outputs": [
    {
     "name": "stdout",
     "output_type": "stream",
     "text": [
      "Enter array size: 5\n",
      "Enter array elements separated by space: 1 9 4 6 7\n",
      "Sum of array = 27\n"
     ]
    }
   ],
   "source": [
    "n = int(input(\"Enter array size: \"))\n",
    "arr = input(\"Enter array elements separated by space: \").split()\n",
    "for i in range(n):\n",
    "    arr[i] = int(arr[i])\n",
    "res = 0\n",
    "for i in range(n):\n",
    "    res += arr[i]\n",
    "print(\"Sum of array = {}\".format(res))"
   ]
  },
  {
   "cell_type": "markdown",
   "metadata": {},
   "source": [
    "#### 2.\tWrite a Python Program to find largest element in an array?"
   ]
  },
  {
   "cell_type": "code",
   "execution_count": 2,
   "metadata": {},
   "outputs": [
    {
     "name": "stdout",
     "output_type": "stream",
     "text": [
      "Enter array size: 5\n",
      "Enter array elements separated by space: 1 9 4 6 7\n",
      "Largest element in the array = 9\n"
     ]
    }
   ],
   "source": [
    "n = int(input(\"Enter array size: \"))\n",
    "arr = input(\"Enter array elements separated by space: \").split()\n",
    "for i in range(n):\n",
    "    arr[i] = int(arr[i])\n",
    "largest = arr[0]\n",
    "for i in range(1,n):\n",
    "    if largest < arr[i]:\n",
    "        largest = arr[i]\n",
    "print(\"Largest element in the array = {}\".format(largest))"
   ]
  },
  {
   "cell_type": "markdown",
   "metadata": {},
   "source": [
    "#### 3.\tWrite a Python Program for array rotation?"
   ]
  },
  {
   "cell_type": "code",
   "execution_count": 7,
   "metadata": {},
   "outputs": [
    {
     "name": "stdout",
     "output_type": "stream",
     "text": [
      "Enter array size: 5\n",
      "Enter array elements separated by space: 1 2 3 4 5\n",
      "Enter no.of rotations: 2\n",
      "Array before rotation: \n",
      "1 2 3 4 5 \n",
      "Array after rotation: \n",
      "3 4 5 1 2 "
     ]
    }
   ],
   "source": [
    "n = int(input(\"Enter array size: \"))\n",
    "arr = input(\"Enter array elements separated by space: \").split()\n",
    "for i in range(n):\n",
    "    arr[i] = int(arr[i])\n",
    "d = int(input(\"Enter no.of rotations: \"))%n\n",
    "print(\"Array before rotation: \")\n",
    "for i in range(n):\n",
    "    print(arr[i], end=\" \")\n",
    "print(\"\")\n",
    "for i in range(d):\n",
    "    v = arr.pop(0)\n",
    "    arr.append(v)\n",
    "print(\"Array after rotation: \")\n",
    "for i in range(n):\n",
    "    print(arr[i], end=\" \")"
   ]
  },
  {
   "cell_type": "markdown",
   "metadata": {},
   "source": [
    "#### 4.\tWrite a Python Program to Split the array and add the first part to the end?"
   ]
  },
  {
   "cell_type": "code",
   "execution_count": 9,
   "metadata": {},
   "outputs": [
    {
     "name": "stdout",
     "output_type": "stream",
     "text": [
      "Enter array size: 5\n",
      "Enter array elements separated by space: 1 2 3 4 5\n",
      "Enter an index value to split: 3\n",
      "Before split, array is:\n",
      "1 2 3 4 5 \n",
      "After split, array is\n",
      "4 5 1 2 3 "
     ]
    }
   ],
   "source": [
    "n = int(input(\"Enter array size: \"))\n",
    "arr = input(\"Enter array elements separated by space: \").split()\n",
    "for i in range(n):\n",
    "    arr[i] = int(arr[i])\n",
    "k = int(input(\"Enter an index value to split: \"))\n",
    "print(\"Before split, array is:\")\n",
    "for i in range(n):\n",
    "    print(arr[i], end=\" \")\n",
    "print(\"\")\n",
    "arr = arr[k:] + arr[0:k]\n",
    "print(\"After split, array is\")\n",
    "for i in range(n):\n",
    "    print(arr[i], end=\" \")"
   ]
  },
  {
   "cell_type": "markdown",
   "metadata": {},
   "source": [
    "#### 5.\tWrite a Python Program to check if given array is Monotonic?"
   ]
  },
  {
   "cell_type": "code",
   "execution_count": 12,
   "metadata": {},
   "outputs": [
    {
     "name": "stdout",
     "output_type": "stream",
     "text": [
      "Enter array size: 5\n",
      "Enter array elements separated by space: 3 4 5 6 1\n",
      "The given array is not monotonic\n"
     ]
    }
   ],
   "source": [
    "n = int(input(\"Enter array size: \"))\n",
    "arr = input(\"Enter array elements separated by space: \").split()\n",
    "for i in range(n):\n",
    "    arr[i] = int(arr[i])\n",
    "status = 0\n",
    "for i in range(n-1):\n",
    "    if arr[i] <= arr[i+1]:\n",
    "        pass\n",
    "    else:\n",
    "        status += 1\n",
    "        break\n",
    "for i in range(n-1):\n",
    "    if arr[i] >= arr[i+1]:\n",
    "        pass\n",
    "    else:\n",
    "        status += 1\n",
    "        break\n",
    "if status == 0 or status == 1:\n",
    "    print(\"The given array is monotonic\")\n",
    "else:\n",
    "    print(\"The given array is not monotonic\")\n",
    "        "
   ]
  }
 ],
 "metadata": {
  "kernelspec": {
   "display_name": "Python 3",
   "language": "python",
   "name": "python3"
  },
  "language_info": {
   "codemirror_mode": {
    "name": "ipython",
    "version": 3
   },
   "file_extension": ".py",
   "mimetype": "text/x-python",
   "name": "python",
   "nbconvert_exporter": "python",
   "pygments_lexer": "ipython3",
   "version": "3.9.1"
  }
 },
 "nbformat": 4,
 "nbformat_minor": 4
}
